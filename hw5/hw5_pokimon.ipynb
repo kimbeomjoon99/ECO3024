{
 "cells": [
  {
   "cell_type": "code",
   "execution_count": 3,
   "id": "7aecd0df",
   "metadata": {},
   "outputs": [],
   "source": [
    "import numpy as np\n",
    "import pandas as pd\n",
    "import matplotlib.pyplot as plt\n",
    "import seaborn as sns\n"
   ]
  },
  {
   "cell_type": "markdown",
   "id": "c7594cc0",
   "metadata": {},
   "source": [
    "한글 이름 추가"
   ]
  },
  {
   "cell_type": "code",
   "execution_count": 4,
   "id": "b5e85643",
   "metadata": {},
   "outputs": [],
   "source": [
    "def translate_name(name):\n",
    "    pokemon = pd.read_csv(\"pokemon.csv\")\n",
    "    pokemon_kr = pd.read_csv(\"https://raw.githubusercontent.com/k5yi/econ2005/7fed12de6d07c763205175db43a2d6cad402dc4a/datasets/pokemon_korean_names.csv\")\n",
    "    \n",
    "    pokemon_name = pokemon.loc[:, 'japanese_name':'name']\n",
    "    pokemon_korean = pokemon_kr.drop(index = [801, 802, 803, 804, 805, 806, 807, 808], axis = 0)\n",
    "    pokemon_korean = pokemon_korean.drop(['index', 'english'], axis = 'columns')\n",
    "    pokemon_name = pokemon_name[['name', 'japanese_name']]\n",
    "    pokemon_name = pd.concat([pokemon_name, pokemon_kr], axis = 1)\n",
    "    \n",
    "    if name.encode().isalpha() == False:\n",
    "        eng = pokemon_name.korean == name\n",
    "        return_name = list(pokemon_name[eng].loc[:, 'name'])\n",
    "    else:\n",
    "        name = name.capitalize()\n",
    "        kor = pokemon_name.name == name\n",
    "        return_name = list(pokemon_name[kor].loc[:, 'korean'])\n",
    "    \n",
    "    return return_name[0]"
   ]
  },
  {
   "cell_type": "markdown",
   "id": "d4a1305e",
   "metadata": {},
   "source": [
    "capture"
   ]
  },
  {
   "cell_type": "code",
   "execution_count": 5,
   "id": "8cbb39e5",
   "metadata": {},
   "outputs": [],
   "source": [
    "def capture(x, y):\n",
    "    pokemon = pd.read_csv(\"pokemon.csv\")\n",
    "    pokemon_kr = pd.read_csv(\"https://raw.githubusercontent.com/k5yi/econ2005/7fed12de6d07c763205175db43a2d6cad402dc4a/datasets/pokemon_korean_names.csv\")\n",
    "    \n",
    "    tmp = pokemon\n",
    "    rate = tmp.loc[:, 'capture_rate']\n",
    "    for i in range(len(pokemon)):\n",
    "        if rate[i].isdecimal() == False:\n",
    "            tmp = tmp.drop(index = [i], axis = 0)\n",
    "        \n",
    "    c = ((tmp.capture_rate) >= str(x)) & ((tmp.capture_rate) <= str(y))\n",
    "    cap = list(tmp[c].loc[:, 'name'])\n",
    "    \n",
    "    return tuple(cap)"
   ]
  },
  {
   "cell_type": "markdown",
   "id": "e00cdf24",
   "metadata": {},
   "source": [
    "species_count"
   ]
  },
  {
   "cell_type": "code",
   "execution_count": 6,
   "id": "38f4ac91",
   "metadata": {},
   "outputs": [],
   "source": [
    "def species_count(collection):\n",
    "    pokemon = pd.read_csv(\"pokemon.csv\")\n",
    "    pokemon_kr = pd.read_csv(\"https://raw.githubusercontent.com/k5yi/econ2005/7fed12de6d07c763205175db43a2d6cad402dc4a/datasets/pokemon_korean_names.csv\")\n",
    "    \n",
    "    tmp = pokemon\n",
    "    df = pd.DataFrame()\n",
    "    for x in range(len(collection)):\n",
    "        p = tmp.name == collection[x]\n",
    "        df = pd.concat([df, tmp[p]], axis = 0)\n",
    "    \n",
    "    df = df.loc[:, 'classfication']\n",
    "    df = df.drop_duplicates()\n",
    "\n",
    "    return len(df)"
   ]
  },
  {
   "cell_type": "markdown",
   "id": "4762802e",
   "metadata": {},
   "source": [
    "max_defense"
   ]
  },
  {
   "cell_type": "code",
   "execution_count": 7,
   "id": "4c218397",
   "metadata": {},
   "outputs": [],
   "source": [
    "def max_defense(collection):\n",
    "    pokemon = pd.read_csv(\"pokemon.csv\")\n",
    "    pokemon_kr = pd.read_csv(\"https://raw.githubusercontent.com/k5yi/econ2005/7fed12de6d07c763205175db43a2d6cad402dc4a/datasets/pokemon_korean_names.csv\")\n",
    "    \n",
    "    tmp = pokemon\n",
    "    dfx = pd.DataFrame()\n",
    "    for x in range(len(collection)):\n",
    "        p = tmp.name == collection[x]\n",
    "        dfx = pd.concat([dfx, tmp[p]], axis = 0)\n",
    "    \n",
    "    df = pd.DataFrame()\n",
    "    l = []\n",
    "    defen = dfx.loc[:, 'defense']\n",
    "    n = dfx.loc[:, 'name']\n",
    "    name = pd.concat([n, defen], axis = 1)\n",
    "    p = defen.idxmax()\n",
    "    pp = defen.loc[p]\n",
    "    while True:\n",
    "        m = defen.idxmax()\n",
    "        mm = defen.loc[m]\n",
    "        if mm < pp:\n",
    "            break\n",
    "        l.append(m)\n",
    "        defen = defen.drop(index = [m], axis = 0)\n",
    "    \n",
    "    for x in l:\n",
    "        d = name.loc[x]\n",
    "        df = pd.concat([df, d], axis = 1)\n",
    "        \n",
    "    ans = []\n",
    "    for x in list(df):\n",
    "        t = df.loc[:, x]\n",
    "        t = tuple(t)\n",
    "        ans.append(t)\n",
    "    \n",
    "    return ans"
   ]
  },
  {
   "cell_type": "markdown",
   "id": "62fe2dff",
   "metadata": {},
   "source": [
    "filter_range"
   ]
  },
  {
   "cell_type": "code",
   "execution_count": 8,
   "id": "1e27002e",
   "metadata": {},
   "outputs": [],
   "source": [
    "def filter_range(collection, column, x, y):\n",
    "    pokemon = pd.read_csv(\"pokemon.csv\")\n",
    "    pokemon_kr = pd.read_csv(\"https://raw.githubusercontent.com/k5yi/econ2005/7fed12de6d07c763205175db43a2d6cad402dc4a/datasets/pokemon_korean_names.csv\")\n",
    "    \n",
    "    tmp = pokemon\n",
    "    df = pd.DataFrame()\n",
    "    for i in range(len(collection)):\n",
    "        p = tmp.name == collection[i]\n",
    "        df = pd.concat([df, tmp[p]], axis = 0)\n",
    "    \n",
    "    filter_df = df.loc[:, column]\n",
    "    fil = ((df[column]) >= x) & ((df[column]) <= y)\n",
    "    Filter = filter_df[fil]\n",
    "    \n",
    "    return_df = pd.DataFrame()\n",
    "    for i in list(Filter.index):\n",
    "        return_df = pd.concat([return_df, df.loc[i]], axis = 1)\n",
    "    name = return_df.loc['name']\n",
    "    stat = return_df.loc[column]\n",
    "    \n",
    "    name = pd.concat([name, stat], axis = 1)\n",
    "    name = name.sort_values(by = ['attack'])\n",
    "    ans = []\n",
    "    for i in list(Filter.index):\n",
    "        l = tuple(name.loc[i])\n",
    "        ans.append(l)\n",
    "    \n",
    "    return ans"
   ]
  },
  {
   "cell_type": "markdown",
   "id": "3aad4602",
   "metadata": {},
   "source": [
    "mean_attack_for_type"
   ]
  },
  {
   "cell_type": "code",
   "execution_count": 9,
   "id": "7b16443d",
   "metadata": {},
   "outputs": [],
   "source": [
    "def mean_attack_for_type(collection, Type, stat):\n",
    "    pokemon = pd.read_csv(\"pokemon.csv\")\n",
    "    pokemon_kr = pd.read_csv(\"https://raw.githubusercontent.com/k5yi/econ2005/7fed12de6d07c763205175db43a2d6cad402dc4a/datasets/pokemon_korean_names.csv\")\n",
    "    \n",
    "    tmp = pokemon\n",
    "    df = pd.DataFrame()\n",
    "    for i in range(len(collection)):\n",
    "        p = tmp.name == collection[i]\n",
    "        df = pd.concat([df, tmp[p]], axis = 0)\n",
    "    \n",
    "    if len(df) == 0:\n",
    "        return 'None'\n",
    "    \n",
    "    fil = ((df.type1) == Type) | ((df.type2) == Type)\n",
    "    type_fil = df[fil]\n",
    "    \n",
    "    type_fil = type_fil.loc[:, stat]\n",
    "    m = type_fil.mean()\n",
    "    \n",
    "    return m"
   ]
  },
  {
   "cell_type": "markdown",
   "id": "b35fb443",
   "metadata": {},
   "source": [
    "count_types"
   ]
  },
  {
   "cell_type": "code",
   "execution_count": 10,
   "id": "a45326ed",
   "metadata": {},
   "outputs": [],
   "source": [
    "def count_types(collection):\n",
    "    pokemon = pd.read_csv(\"pokemon.csv\")\n",
    "    pokemon_kr = pd.read_csv(\"https://raw.githubusercontent.com/k5yi/econ2005/7fed12de6d07c763205175db43a2d6cad402dc4a/datasets/pokemon_korean_names.csv\")\n",
    "    \n",
    "    from collections import Counter\n",
    "    \n",
    "    tmp = pokemon\n",
    "    df = pd.DataFrame()\n",
    "    for i in range(len(collection)):\n",
    "        p = tmp.name == collection[i]\n",
    "        df = pd.concat([df, tmp[p]], axis = 0)\n",
    "        \n",
    "    t1 = dict(df['type1'].value_counts())\n",
    "    t2 = dict(df['type2'].value_counts())\n",
    "    All = Counter(t1) + Counter(t2)\n",
    "    All = sorted(All.items(), key=lambda x: x[1], reverse=True)\n",
    "    \n",
    "    return dict(All)"
   ]
  }
 ],
 "metadata": {
  "kernelspec": {
   "display_name": "Python 3 (ipykernel)",
   "language": "python",
   "name": "python3"
  },
  "language_info": {
   "codemirror_mode": {
    "name": "ipython",
    "version": 3
   },
   "file_extension": ".py",
   "mimetype": "text/x-python",
   "name": "python",
   "nbconvert_exporter": "python",
   "pygments_lexer": "ipython3",
   "version": "3.9.7"
  }
 },
 "nbformat": 4,
 "nbformat_minor": 5
}
